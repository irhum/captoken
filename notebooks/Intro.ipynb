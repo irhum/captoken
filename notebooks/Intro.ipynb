{
 "cells": [
  {
   "cell_type": "markdown",
   "metadata": {},
   "source": [
    "This is an intro notebook that shows how to use `captoken`, using the first passage from the Wikipedia entry of [ARM big.LITTLE](https://en.wikipedia.org/wiki/ARM_big.LITTLE), as demonstrated in the chapter. A more extensive example (with the experiments on the Newsgroups dataset can be found in the two correspondingly named notebooks.)"
   ]
  },
  {
   "cell_type": "code",
   "execution_count": 3,
   "metadata": {},
   "outputs": [],
   "source": [
    "import sys\n",
    "\n",
    "sys.path.append(\"..\")\n",
    "\n",
    "from captoken import preprocess"
   ]
  },
  {
   "cell_type": "code",
   "execution_count": 4,
   "metadata": {},
   "outputs": [],
   "source": [
    "text = \"ARM big.LITTLE is a heterogeneous computing architecture developed by ARM Holdings, coupling relatively battery-saving and slower processor cores (LITTLE) with relatively more powerful and power-hungry ones (big). The intention is to create a multi-core processor that can adjust better to dynamic computing needs and use less power than clock scaling alone. ARM's marketing material promises up to a 75% savings in power usage for some activities.[1] Most commonly, ARM big.LITTLE architectures are used to create a multi-processor system-on-chip (MPSoC)\""
   ]
  },
  {
   "cell_type": "code",
   "execution_count": 5,
   "metadata": {},
   "outputs": [
    {
     "data": {
      "text/plain": [
       "\"<bksp><capss> arm<capse> big.<bksp><capss> little<capse> is a heterogeneous computing architecture developed by<capss> arm<capse><shift> holdings, coupling relatively battery-<bksp> saving and slower processor cores (<bksp><capss> little<capse>) with relatively more powerful and power-<bksp> hungry ones (<bksp> big).<shift> the intention is to create a multi-<bksp> core processor that can adjust better to dynamic computing needs and use less power than clock scaling alone.<capss> arm<capse>'<bksp> s marketing material promises up to a 75% savings in power usage for some activities.[1]<shift> most commonly,<capss> arm<capse> big.<bksp><capss> little<capse> architectures are used to create a multi-<bksp> processor system-<bksp> on-<bksp> chip (<bksp><shift> m<shift>p<shift>so<shift>c)\""
      ]
     },
     "execution_count": 5,
     "metadata": {},
     "output_type": "execute_result"
    }
   ],
   "source": [
    "preprocess.replace_caps(text)"
   ]
  }
 ],
 "metadata": {
  "kernelspec": {
   "display_name": "captoken-q1LikTSU-py3.11",
   "language": "python",
   "name": "python3"
  },
  "language_info": {
   "codemirror_mode": {
    "name": "ipython",
    "version": 3
   },
   "file_extension": ".py",
   "mimetype": "text/x-python",
   "name": "python",
   "nbconvert_exporter": "python",
   "pygments_lexer": "ipython3",
   "version": "3.11.5"
  }
 },
 "nbformat": 4,
 "nbformat_minor": 2
}
